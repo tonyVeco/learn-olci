{
 "cells": [
  {
   "cell_type": "markdown",
   "metadata": {},
   "source": [
    "<img src='https://gitlab.eumetsat.int/eumetlab/oceans/ocean-training/tools/frameworks/-/raw/main/img/Standard_banner.png' align='right' width='100%'/>"
   ]
  },
  {
   "cell_type": "markdown",
   "metadata": {},
   "source": [
    "<a href=\"../Index.ipynb\" target=\"_blank\"><< Index</a>\n",
    "<br>\n",
    "<a href=\"./2_3_OLCI_SNAP_batch_processing_C2RCC.ipynb\" target=\"_blank\"><< Using SNAP to batch process OLCI with C2RCC</a>"
   ]
  },
  {
   "cell_type": "markdown",
   "metadata": {},
   "source": [
    "<font color=\"#138D75\">**Copernicus Marine Training Service**</font> <br>\n",
    "**Copyright:** 2023 EUMETSAT <br>\n",
    "**License:** MIT <br>\n",
    "**Authors:** Ben Loveday (EUMETSAT/Innoflair UG), Hayley Evers-King (EUMETSAT)"
   ]
  },
  {
   "cell_type": "markdown",
   "metadata": {},
   "source": [
    "<html>\n",
    "  <div style=\"width:100%\">\n",
    "    <div style=\"float:left\"><a href=\"https://mybinder.org/v2/git/https%3A%2F%2Fgitlab.eumetsat.int%2Feumetlab%2Foceans%2Focean-training%2Fsensors%2Flearn-olci/HEAD?urlpath=%2Ftree%2F2_OLCI_advanced%2F2_4_OLCI_ope_rep_time_series.ipynb\"><img src=\"https://mybinder.org/badge_logo.svg\" alt=\"Open in Binder\"></a></div>\n",
    "    <div style=\"float:left\"><p>&emsp;</p></div>\n",
    "  </div>\n",
    "</html>"
   ]
  },
  {
   "cell_type": "markdown",
   "metadata": {},
   "source": [
    "<div class=\"alert alert-block alert-success\">\n",
    "<h3>Learn OLCI: Advanced</h3></div>"
   ]
  },
  {
   "cell_type": "markdown",
   "metadata": {},
   "source": [
    "<div class=\"alert alert-block alert-warning\">\n",
    "    \n",
    "<b>PREREQUISITES </b>\n",
    "    \n",
    "Users should review the following notebooks for more information on setting up a credentials files for using the eumdac python library to retrieve OLCI data from the Data Store:\n",
    "    \n",
    "- **<a href=\"../1_OLCI_introductory/1_1a_OLCI_data_access_Data_Store.ipynb\">1_1a_OLCI_data_access_Data_Store.ipynb</a>**\n",
    "\n",
    "</div>\n",
    "<hr>"
   ]
  },
  {
   "cell_type": "markdown",
   "metadata": {},
   "source": [
    "# 2.5 Acquiring OLCI timeseries from operational and reprocessed collections\n",
    "\n",
    "### Data used\n",
    "\n",
    "| Product Description | Data Store collection ID| Product Navigator |\n",
    "|:--------------------:|:-----------------------:|:-------------:|\n",
    "| Sentinel-3 OLCI level-2 full resolution operational | EO:EUM:DAT:0409 | <a href=\"https://navigator.eumetsat.int/product/EO:EUM:DAT:SENTINEL-3:OL_2_WFR___NTC?query=OLCI&filter=satellite__Sentinel-3&filter=instrument__OLCI&filter=processingLevel__Level%202%20Data&s=advanced\" target=\"_blank\">link</a> |\n",
    "| Sentinel-3 OLCI level-2 full resolution BC003 reprocessing | EO:EUM:DAT:0556 | <a href=\"https://navigator.eumetsat.int/product/EO:EUM:DAT:0556?query=OLCI%20BC003&filter=satellite__Sentinel-3&filter=instrument__OLCI&filter=processingLevel__Level%202%20Data&s=advanced\" target=\"_blank\">link</a> |\n",
    "\n",
    "### Learning outcomes\n",
    "\n",
    "At the end of this notebook you will know;\n",
    "* <font color=\"#138D75\">**Search**</font> for a time series of operational and reprocessed L2 OLCI data for your region of interest using the EUMETSAT Data Store API client (`eumdac`)\n",
    "* Truncate your operational time series according to available reprocessed data\n",
    "* <font color=\"#138D75\">**Download**</font> this time series\n",
    "\n",
    "### Outline\n",
    "\n",
    "The EUMETSAT Data Store offers many ways to interact with data in order to refine searches. Many of these methods are supported by the EUMETSAT Data Access Client (`eumdac`). In this notebook we will showcase some of the possibilities for using `eumdac` to better interact with OLCI collections. This notebook assumes that you already have an understanding of the available Data Store interfaces, which you can gain by running the **<a href=\"../1_OLCI_introductory/1_1a_OLCI_data_access_Data_Store.ipynb\">1_1a_OLCI_data_access_Data_Store</a>** notebook.\n",
    "\n",
    "\n",
    "<div class=\"alert alert-info\" role=\"alert\">\n",
    "\n",
    "## <a id='TOC_TOP'></a>Contents\n",
    "\n",
    "</div>\n",
    "    \n",
    "1. [Step 1: Authenticating the API](#section1)\n",
    "1. [Step 2: Creating a search by collection](#section2)\n",
    "1. [Step 3: Filtering by space](#section3)\n",
    "1. [Step 4: Filtering the operational collection by timeliness](#section4)\n",
    "1. [Step 5: Filtering the operational collection by time](#section5) \n",
    "1. [Step 6: Removing operational NTC duplicates](#section6)\n",
    "1. [Step 7: Downloading the full sequence](#section7)\n",
    "\n",
    "<hr>"
   ]
  },
  {
   "cell_type": "code",
   "execution_count": 1,
   "metadata": {},
   "outputs": [],
   "source": [
    "import datetime     # a libary that allows us to work with dates and times\n",
    "import json         # a library that helps us make JSON format files\n",
    "import os           # a library that allows us access to basic operating system commands like making directories\n",
    "from shapely import geometry # a library that support construction of geometry objects\n",
    "import shutil       # a library that allows us access to basic operating system commands like copy\n",
    "import zipfile      # a library that allows us to unzip zip-files.\n",
    "import eumdac       # a tool that helps us download via the eumetsat/data-store\n",
    "\n",
    "# Create a download directory for our SLSTR products\n",
    "download_dir = os.path.join(os.getcwd(), \"products\")\n",
    "os.makedirs(download_dir, exist_ok=True)"
   ]
  },
  {
   "cell_type": "markdown",
   "metadata": {},
   "source": [
    "<div class=\"alert alert-info\" role=\"alert\">\n",
    "\n",
    "## <a id='section1'></a>Step 1: Authenticating the API\n",
    "[Back to top](#TOC_TOP)\n",
    "\n",
    "</div>"
   ]
  },
  {
   "cell_type": "markdown",
   "metadata": {},
   "source": [
    "Before we use the Data Store to download data, we must first authenticate our access and retrieve an access token. More **essential** information on setting this up can be found in the **<a href=\"../1_OLCI_introductory/1_1a_OLCI_data_access_Data_Store.ipynb\">1_1a_OLCI_data_access_Data_Store</a>** notebook."
   ]
  },
  {
   "cell_type": "code",
   "execution_count": 2,
   "metadata": {},
   "outputs": [
    {
     "name": "stdout",
     "output_type": "stream",
     "text": [
      "This token 'ac81666d-d861-3daa-8fc1-dd92d38e26ad' expires 2022-09-09 09:45:01.207959\n"
     ]
    }
   ],
   "source": [
    "# load credentials\n",
    "with open(os.path.join(os.path.expanduser(\"~\"),'.eumdac_credentials')) as json_file:\n",
    "    credentials = json.load(json_file)\n",
    "    token = eumdac.AccessToken((credentials['consumer_key'], credentials['consumer_secret']))\n",
    "    print(f\"This token '{token}' expires {token.expiration}\")\n",
    "\n",
    "# create data store object\n",
    "datastore = eumdac.DataStore(token)"
   ]
  },
  {
   "cell_type": "markdown",
   "metadata": {},
   "source": [
    "<div class=\"alert alert-info\" role=\"alert\">\n",
    "\n",
    "## <a id='section2'></a>Step 2: Creating a search by collection\n",
    "[Back to top](#TOC_TOP)\n",
    "\n",
    "</div>"
   ]
  },
  {
   "cell_type": "markdown",
   "metadata": {},
   "source": [
    "We will work with the OLCI Level-2 full resolution data throughout this notebook. The collection IDs for this data type is `EO:EUM:DAT:0407` for operational products and `EO:EUM:DAT:0556` for baseline collection BC003 reprocessed products. You can find this information on the Data Store (https://data.eumetsat.int/), or ask the `eumdac` client to tell you all the avaiable collections by calling the `eumdac.DataStore(token).collections` method."
   ]
  },
  {
   "cell_type": "code",
   "execution_count": 3,
   "metadata": {},
   "outputs": [],
   "source": [
    "# set collection ID for OLCI L2 WFR Operational\n",
    "collectionID_OPE = 'EO:EUM:DAT:0407'\n",
    "\n",
    "# set collection ID for OLCI L2 WFR reprocessing BC003\n",
    "collectionID_REP = 'EO:EUM:DAT:0556'"
   ]
  },
  {
   "cell_type": "markdown",
   "metadata": {},
   "source": [
    "To filter by collection, we simply provide the collectionID to the `datastore.get_collection method` for our operational and reprocessing selections."
   ]
  },
  {
   "cell_type": "code",
   "execution_count": 4,
   "metadata": {},
   "outputs": [
    {
     "name": "stdout",
     "output_type": "stream",
     "text": [
      "OLCI Level 2 Ocean Colour Full Resolution - Sentinel-3\n",
      "---\n",
      "OLCI (Ocean and Land Colour Instrument) Ocean Colour Geophysical Products. Full Resolution: 300m at nadir. All Sentinel-3 NRT products are available at pick-up point in less than 3h. Level 2 marine products include the following: * water-leaving reflectances in 16 bands, Oa**_reflectance (Baseline Atmospheric Correction (BAC) algorithm, bands: 400, 412, 442, 490, 510, 560, 620, 665, 674, 681, 709, 754, 779, 865, 885, 1024 nanometer (nm)); *algal pigment concentration in clear waters, chl_oc4me (BAC and maximum band ratio algorithm, log10 scaled); *algal pigment concentration in turbid waters, chl_nn (neural net algorithm, log10 scaled); *total suspended matter concentration, tsm_nn (neural net algorithm, log10 scaled); *diffuse attenuation coefficient Kd of downward irradiance at 490 nm, trsp (BAC and M07 algorithm, log10 scaled); *absorption coefficient at 443 nm of coloured detrital and dissolved organic matter, iop_nn (neural net algorithm, log10 scaled); *instantaneous photosynthetically active radiation, PAR (BAC and clear-sky ocean algorithm); *aerosol optical thickness T865 and aerosol Angstrom exponent A865, w_aer (BAC algorithm, A for bands 779 and 865 nm) *integrated water vapour column, iwv (1D-Var algorithm). The geophysical products are accompanied by error estimate products. Pixel classification, quality and science flags, as well as meteorological, geometry and geolocation data at tie points are provided. - All Sentinel-3 NRT products are available at pick-up point in less than 3h - All Sentinel-3 Non Time Critical (NTC) products are available at pick-up point in less than 30 days Sentinel-3 is part of a series of Sentinel satellites, under the umbrella of the EU Copernicus programme.\n",
      "\n",
      "\n",
      "OLCI Level 2 Ocean Colour Full Resolution (version BC003) - Sentinel-3 - Reprocessed\n",
      "---\n",
      "OLCI Level 2 Marine products provide spectral information on the colour of the oceans (water reflectances). These radiometric products are used to estimate geophysical parameters e.g. estimates of phytoplankton biomass through determining the Chlorophyll-a (Chl) concentration. In coastal areas, they also allow monitoring of the sediment load via the Total Suspended Matter (TSM) product. Full resolution products are at a nominal 300m resolution.\n"
     ]
    }
   ],
   "source": [
    "# Use collection ID\n",
    "selected_collection_OPE = datastore.get_collection(collectionID_OPE)\n",
    "print(f\"{selected_collection_OPE.title}\\n---\\n{selected_collection_OPE.abstract}\")\n",
    "\n",
    "print(\"\\n\")\n",
    "\n",
    "selected_collection_REP = datastore.get_collection(collectionID_REP)\n",
    "print(f\"{selected_collection_REP.title}\\n---\\n{selected_collection_REP.abstract}\")"
   ]
  },
  {
   "cell_type": "markdown",
   "metadata": {},
   "source": [
    "*Note: can can see a full range of the search options available in a collection object by using the `selected_collection.search_options` method*"
   ]
  },
  {
   "cell_type": "markdown",
   "metadata": {},
   "source": [
    "<div class=\"alert alert-info\" role=\"alert\">\n",
    "\n",
    "## <a id='section4'></a>Step 3: Filtering by space\n",
    "[Back to top](#TOC_TOP)\n",
    "\n",
    "</div>"
   ]
  },
  {
   "cell_type": "markdown",
   "metadata": {},
   "source": [
    "We can also add geographical filtering by passing in a <a href=\"https://en.wikipedia.org/wiki/Well-known_text_representation_of_geometry\" target=\"_blank\">Well Known Text</a> (WKT) format region of interest into the **geo** argument of the `.search()` method. The box below defines our WKT using the `shapely` geometry library, which is useful as it gives us a polygon object that we later use to compare our ROI area with the granules we are looking at."
   ]
  },
  {
   "cell_type": "code",
   "execution_count": 5,
   "metadata": {},
   "outputs": [],
   "source": [
    "# space/time filter the collection for products.\n",
    "# In this case a 1x1 degree box around the Acqua Alta Oceanographic Tower (AAOT).\n",
    "north = 45.00\n",
    "south = 46.00\n",
    "east = 12.00\n",
    "west = 13.00\n",
    "ROI = [[west, south], [east, south], [east, north], [west, north], [west, south]]\n",
    "ROI_WKT = geometry.Polygon([[p[0], p[1]] for p in ROI])"
   ]
  },
  {
   "cell_type": "markdown",
   "metadata": {},
   "source": [
    "Now lets use this polygon to refine our search..."
   ]
  },
  {
   "cell_type": "code",
   "execution_count": 6,
   "metadata": {},
   "outputs": [
    {
     "name": "stdout",
     "output_type": "stream",
     "text": [
      "Found 2159 reprocessed products\n",
      "Found 786 operational products\n"
     ]
    }
   ],
   "source": [
    "products_REP = selected_collection_REP.search(\n",
    "    geo=ROI_WKT)\n",
    "print(f\"Found {len(products_REP)} reprocessed products\")\n",
    "\n",
    "products_OPE = selected_collection_OPE.search(\n",
    "    geo=ROI_WKT)\n",
    "print(f\"Found {len(products_OPE)} operational products\")"
   ]
  },
  {
   "cell_type": "markdown",
   "metadata": {},
   "source": [
    "<div class=\"alert alert-info\" role=\"alert\">\n",
    "\n",
    "## <a id='section4'></a>Step 4: Filtering the operational collection by timeliness\n",
    "[Back to top](#TOC_TOP)\n",
    "\n",
    "</div>"
   ]
  },
  {
   "cell_type": "markdown",
   "metadata": {},
   "source": [
    "If we are combinging operational and reprocessing products, we are often onlt interested in Non Time-Critical (NTC) OLCI products. We can add this filter to our search as follows."
   ]
  },
  {
   "cell_type": "code",
   "execution_count": 7,
   "metadata": {},
   "outputs": [
    {
     "name": "stdout",
     "output_type": "stream",
     "text": [
      "Found 738 operational non-time critical products\n"
     ]
    }
   ],
   "source": [
    "products_OPE = selected_collection_OPE.search(\n",
    "    geo=ROI_WKT, \n",
    "    timeliness='NT')\n",
    "print(f\"Found {len(products_OPE)} operational non-time critical products\")"
   ]
  },
  {
   "cell_type": "markdown",
   "metadata": {},
   "source": [
    "<div class=\"alert alert-info\" role=\"alert\">\n",
    "\n",
    "## <a id='section5'></a>Step 5: Filtering the operational collection by time\n",
    "[Back to top](#TOC_TOP)\n",
    "\n",
    "</div>"
   ]
  },
  {
   "cell_type": "markdown",
   "metadata": {},
   "source": [
    "If our reprocessing and operational records overlap we only wish to retain the former. Put another way, we only want to include the operational products that were created after the end of the reprocessing was completed. We can do this by filtering the operational collection by date, limiting it to dates after the last available reprocessed products to now."
   ]
  },
  {
   "cell_type": "code",
   "execution_count": 8,
   "metadata": {},
   "outputs": [
    {
     "name": "stdout",
     "output_type": "stream",
     "text": [
      "The last available reprocessing products is at 20210428T094703\n"
     ]
    }
   ],
   "source": [
    "latest = products_REP.first()\n",
    "file_tags = str(latest).split('_')\n",
    "file_tags = [i for i in file_tags if i]\n",
    "latest_date = file_tags[4]\n",
    "print(f\"The last available reprocessing products is at {latest_date}\")"
   ]
  },
  {
   "cell_type": "code",
   "execution_count": 9,
   "metadata": {},
   "outputs": [
    {
     "name": "stdout",
     "output_type": "stream",
     "text": [
      "Found 738 matching products that occur after the end of the reprocessing\n"
     ]
    }
   ],
   "source": [
    "products_OPE = selected_collection_OPE.search(\n",
    "    geo=ROI_WKT,\n",
    "    dtstart=datetime.datetime.strptime(latest_date,\"%Y%m%dT%H%M%S\")+datetime.timedelta(seconds=1),\n",
    "    timeliness='NT')\n",
    "print(f\"Found {len(products_OPE)} matching products that occur after the end of the reprocessing\")"
   ]
  },
  {
   "cell_type": "markdown",
   "metadata": {},
   "source": [
    "<div class=\"alert alert-info\" role=\"alert\">\n",
    "\n",
    "## <a id='section6'></a>Step 6: Removing operational NTC duplicates\n",
    "[Back to top](#TOC_TOP)\n",
    "\n",
    "</div>"
   ]
  },
  {
   "cell_type": "markdown",
   "metadata": {},
   "source": [
    "Sometimes, during NTC processing, we have to revisit some granules to process them further. This is typically due to missing ancillary data that we have to wait for. In this case, we first pass and final pass products are both on the system. We only want the latter, final, product, which always has a later time. The box below will filter for the latest options only, taking advantage of the Data Stores default to show most recent products first."
   ]
  },
  {
   "cell_type": "code",
   "execution_count": 10,
   "metadata": {},
   "outputs": [
    {
     "name": "stdout",
     "output_type": "stream",
     "text": [
      "Found 736 products\n"
     ]
    }
   ],
   "source": [
    "processed_list = []\n",
    "final_products_OPE = []\n",
    "for product_OPE in products_OPE:\n",
    "    file_tags = str(product_OPE).split('_')\n",
    "    file_tags = [i for i in file_tags if i]\n",
    "    granule_start = file_tags[4]\n",
    "    if granule_start not in processed_list:\n",
    "        final_products_OPE.append(product_OPE)\n",
    "        processed_list.append(granule_start)\n",
    "        \n",
    "print(f\"Found {len(final_products_OPE)} products\")"
   ]
  },
  {
   "cell_type": "markdown",
   "metadata": {},
   "source": [
    "<div class=\"alert alert-info\" role=\"alert\">\n",
    "\n",
    "## <a id='section7'></a>Step 7: Downloading the full sequence\n",
    "[Back to top](#TOC_TOP)\n",
    "\n",
    "</div>"
   ]
  },
  {
   "cell_type": "markdown",
   "metadata": {},
   "source": [
    "We now have two, mutually exclusive lists of products. We can concatenate them into a single list as follows."
   ]
  },
  {
   "cell_type": "code",
   "execution_count": 11,
   "metadata": {
    "scrolled": false
   },
   "outputs": [],
   "source": [
    "# first we convert our REP search results to a product list so that we can concatenate the two records\n",
    "final_products_REP = [item for item in products_REP]\n",
    "\n",
    "# then we concatenate the lists\n",
    "final_products = final_products_OPE + final_products_REP"
   ]
  },
  {
   "cell_type": "markdown",
   "metadata": {},
   "source": [
    "If we want to run a quick check on the last available reprocessed product, and first available operational product to ensure that we have no large gaps, we can easily do so."
   ]
  },
  {
   "cell_type": "code",
   "execution_count": 12,
   "metadata": {},
   "outputs": [
    {
     "name": "stdout",
     "output_type": "stream",
     "text": [
      "The last available reprocessed product is:\n",
      "S3A_OL_2_WFR____20210428T094703_20210428T095003_20220308T095437_0179_071_136______MAR_R_NT_003.SEN3\n",
      "\n",
      "\n",
      "The first available operational product is:\n",
      "S3A_OL_2_WFR____20210429T092052_20210429T092352_20210430T193628_0179_071_150_2160_MAR_O_NT_003.SEN3\n"
     ]
    }
   ],
   "source": [
    "print(f\"The last available reprocessed product is:\\n{str(final_products_REP[0])}\")\n",
    "print(\"\\n\")\n",
    "print(f\"The first available operational product is:\\n{str(final_products_OPE[-1])}\")"
   ]
  },
  {
   "cell_type": "markdown",
   "metadata": {},
   "source": [
    "If we are happy with our time series, then we can go ahead and download it."
   ]
  },
  {
   "cell_type": "code",
   "execution_count": 13,
   "metadata": {
    "scrolled": false
   },
   "outputs": [
    {
     "name": "stdout",
     "output_type": "stream",
     "text": [
      "Download 0: S3A_OL_2_WFR____20220907T100157_20220907T100457_20220908T215941_0179_089_293_2160_MAR_O_NT_003.SEN3\n",
      "Downloading S3A_OL_2_WFR____20220907T100157_20220907T100457_20220908T215941_0179_089_293_2160_MAR_O_NT_003.SEN3.zip.\n",
      "Download of product S3A_OL_2_WFR____20220907T100157_20220907T100457_20220908T215941_0179_089_293_2160_MAR_O_NT_003.SEN3.zip finished.\n",
      "Unzipping of product /Users/benloveday/Code/Git_Reps/CMTS/internal/sensors/learn-olci/2_OLCI_advanced/products/S3A_OL_2_WFR____20220907T100157_20220907T100457_20220908T215941_0179_089_293_2160_MAR_O_NT_003.SEN3.zip finished.\n",
      "Download 1: S3B_OL_2_WFR____20220907T092248_20220907T092548_20220908T180055_0179_070_150_2160_MAR_O_NT_003.SEN3\n",
      "Downloading S3B_OL_2_WFR____20220907T092248_20220907T092548_20220908T180055_0179_070_150_2160_MAR_O_NT_003.SEN3.zip.\n",
      "Download of product S3B_OL_2_WFR____20220907T092248_20220907T092548_20220908T180055_0179_070_150_2160_MAR_O_NT_003.SEN3.zip finished.\n",
      "Unzipping of product /Users/benloveday/Code/Git_Reps/CMTS/internal/sensors/learn-olci/2_OLCI_advanced/products/S3B_OL_2_WFR____20220907T092248_20220907T092548_20220908T180055_0179_070_150_2160_MAR_O_NT_003.SEN3.zip finished.\n",
      "Download 2: S3B_OL_2_WFR____20220906T094859_20220906T095159_20220907T212934_0179_070_136_2160_MAR_O_NT_003.SEN3\n",
      "Downloading S3B_OL_2_WFR____20220906T094859_20220906T095159_20220907T212934_0179_070_136_2160_MAR_O_NT_003.SEN3.zip.\n",
      "Download of product S3B_OL_2_WFR____20220906T094859_20220906T095159_20220907T212934_0179_070_136_2160_MAR_O_NT_003.SEN3.zip finished.\n",
      "Unzipping of product /Users/benloveday/Code/Git_Reps/CMTS/internal/sensors/learn-olci/2_OLCI_advanced/products/S3B_OL_2_WFR____20220906T094859_20220906T095159_20220907T212934_0179_070_136_2160_MAR_O_NT_003.SEN3.zip finished.\n"
     ]
    }
   ],
   "source": [
    "max_products = 3\n",
    "for final_product, count in zip(final_products, range(len(final_products))):\n",
    "    if count >= max_products:\n",
    "        continue\n",
    "    print(f\"Download {count}: {final_product}\")\n",
    "    with final_product.open() as fsrc, open(os.path.join(download_dir, fsrc.name), mode='wb') as fdst:\n",
    "        print(f'Downloading {fsrc.name}.')\n",
    "        shutil.copyfileobj(fsrc, fdst)\n",
    "        print(f'Download of product {fsrc.name} finished.')\n",
    "\n",
    "    with zipfile.ZipFile(fdst.name, 'r') as zip_ref:\n",
    "        for file in zip_ref.namelist():\n",
    "            if file.startswith(str(final_product)):\n",
    "                zip_ref.extract(file, download_dir)\n",
    "        print(f'Unzipping of product {fdst.name} finished.')\n",
    "\n",
    "    os.remove(fdst.name)"
   ]
  },
  {
   "cell_type": "markdown",
   "metadata": {},
   "source": [
    "<a href=\"../Index.ipynb\" target=\"_blank\"><< Index</a>\n",
    "<br>\n",
    "<a href=\"./2_3_OLCI_SNAP_batch_processing_C2RCC.ipynb\" target=\"_blank\"><< Using SNAP to batch process OLCI with C2RCC</a>\n",
    "<hr>\n",
    "<a href=\"https://gitlab.eumetsat.int/eumetlab/ocean\" target=\"_blank\">View on GitLab</a> | <a href=\"https://training.eumetsat.int/\" target=\"_blank\">EUMETSAT Training</a> | <a href=mailto:ops@eumetsat.int target=\"_blank\">Contact helpdesk for support </a> | <a href=mailto:Copernicus.training@eumetsat.int target=\"_blank\">Contact our training team to collaborate on and reuse this material</a></span></p>"
   ]
  }
 ],
 "metadata": {
  "author": "Ben Loveday, Hayley Evers-King",
  "description": "This Jupyter Notebook shows how to access a pan-collection time series of best quality Sentinel-3 Ocean and Land Colour Instrument (OLCI) data via the EUMETSAT Data Store.",
  "image": "../img/thumbs/2_5_OLCI_ope_rep_time_series_thumb.png",
  "kernelspec": {
   "display_name": "Python 3 (ipykernel)",
   "language": "python",
   "name": "python3"
  },
  "language_info": {
   "codemirror_mode": {
    "name": "ipython",
    "version": 3
   },
   "file_extension": ".py",
   "mimetype": "text/x-python",
   "name": "python",
   "nbconvert_exporter": "python",
   "pygments_lexer": "ipython3",
   "version": "3.9.16"
  },
  "services": {
   "eumetsat": {
    "binder": {
     "link": "https://mybinder.org/v2/git/https%3A%2F%2Fgitlab.eumetsat.int%2Feumetlab%2Foceans%2Focean-training%2Fsensors%2Flearn-olci/HEAD?urlpath=%2Ftree%2F2_OLCI_advanced%2F2_5_OLCI_ope_rep_time_series.ipynb",
     "service_contact": "ops@eumetsat.int",
     "service_provider": "EUMETSAT"
    },
    "git": {
     "link": "https://gitlab.eumetsat.int/eumetlab/oceans/ocean-training/sensors/learn-olci/-/blob/main/2_OLCI_advanced/2_5_OLCI_ope_rep_time_series.ipynb",
     "service_contact": "ops@eumetsat.int",
     "service_provider": "EUMETSAT"
    }
   },
   "wekeo": {
    "git": {
     "link": "",
     "service_contact": "ops@eumetsat.int",
     "service_provider": "EUMETSAT"
    },
    "url": {
     "link": "",
     "service_contact": "ops@eumetsat.int",
     "service_provider": "EUMETSAT"
    }
   }
  },
  "tags": {
   "domain": "Marine",
   "platform": [
    "Sentinel-3"
   ],
   "sensor": "OLCI",
   "service": "EUMETSAT",
   "subtheme": [
    "Ocean biogeochemistry",
    "Water quality",
    "Ocean fluxes"
   ],
   "tags": [
    "Top-of-atmosphere radiance",
    "Water leaving reflectance",
    "Chlorophyll concentration",
    "Photosynthetically active radiation",
    "Diffuse attentuation coefficient",
    "Coloured dissolved organic matter absorption coefficient",
    "Total suspended matter concentration",
    "Ocean colour"
   ]
  },
  "title": "Accessing a time series of best-quality Sentinel-3 OLCI data via the EUMETSAT Data Store."
 },
 "nbformat": 4,
 "nbformat_minor": 2
}
